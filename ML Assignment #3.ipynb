{
 "cells": [
  {
   "cell_type": "markdown",
   "id": "97fc9640",
   "metadata": {},
   "source": [
    "# Loading Data, Packages"
   ]
  },
  {
   "cell_type": "code",
   "execution_count": null,
   "id": "37980040",
   "metadata": {},
   "outputs": [],
   "source": [
    "# load spambase dataset\n",
    "\n",
    "\n",
    "# loading packages\n"
   ]
  },
  {
   "cell_type": "markdown",
   "id": "1ec101c2",
   "metadata": {},
   "source": [
    "## EDA"
   ]
  },
  {
   "cell_type": "code",
   "execution_count": null,
   "id": "13cebc1e",
   "metadata": {},
   "outputs": [],
   "source": [
    "# Exploring distribution of features, target variable in data"
   ]
  },
  {
   "cell_type": "markdown",
   "id": "cba5bf94",
   "metadata": {},
   "source": [
    "## Data Cleaning"
   ]
  },
  {
   "cell_type": "code",
   "execution_count": null,
   "id": "ef4e8785",
   "metadata": {},
   "outputs": [],
   "source": [
    "# Normalization, attribute selection via fitting graph"
   ]
  },
  {
   "cell_type": "code",
   "execution_count": null,
   "id": "ae3ca341",
   "metadata": {},
   "outputs": [],
   "source": [
    "# other pre-processing considerations (text processing) [try tfidf, if memory issues switch over to G Cloud]"
   ]
  },
  {
   "cell_type": "markdown",
   "id": "7f56434b",
   "metadata": {},
   "source": [
    "# Modeling: Highest Overall Accuracy\n",
    "refrence: https://www.researchgate.net/figure/Results-of-Spambase-dataset_tbl2_291833705\n"
   ]
  },
  {
   "cell_type": "code",
   "execution_count": null,
   "id": "61059b7e",
   "metadata": {},
   "outputs": [],
   "source": [
    "# Decision Tree and Hyperparameter Tuning"
   ]
  },
  {
   "cell_type": "code",
   "execution_count": null,
   "id": "a70c8515",
   "metadata": {},
   "outputs": [],
   "source": [
    "# Knn and Hyperparameter Tuning"
   ]
  },
  {
   "cell_type": "code",
   "execution_count": null,
   "id": "e865c96a",
   "metadata": {},
   "outputs": [],
   "source": [
    "# Naive Bayes and Hyperparameter Tuning"
   ]
  },
  {
   "cell_type": "code",
   "execution_count": null,
   "id": "0c91cf04",
   "metadata": {},
   "outputs": [],
   "source": [
    "# LDA and Hyperparameter Tuning"
   ]
  },
  {
   "cell_type": "markdown",
   "id": "ebf8bc46",
   "metadata": {},
   "source": [
    "https://towardsdatascience.com/unsupervised-nlp-topic-models-as-a-supervised-learning-input-cf8ee9e5cf28 <br>\n",
    "\"supervised lda\", so, for example LDA creates a feature for logistic regression <br>\n",
    "overall tfidf tends to work better"
   ]
  },
  {
   "cell_type": "code",
   "execution_count": null,
   "id": "77e41266",
   "metadata": {},
   "outputs": [],
   "source": [
    "# SVM "
   ]
  },
  {
   "cell_type": "code",
   "execution_count": null,
   "id": "3c8d53bb",
   "metadata": {},
   "outputs": [],
   "source": [
    "# Feed-Forward Neural Net re: Rodan et. all"
   ]
  },
  {
   "cell_type": "code",
   "execution_count": null,
   "id": "da06aa5d",
   "metadata": {},
   "outputs": [],
   "source": [
    "# baseline model performance: AUC graph"
   ]
  },
  {
   "cell_type": "code",
   "execution_count": null,
   "id": "d8f8fea5",
   "metadata": {},
   "outputs": [],
   "source": [
    "# Model Evaluation: cross-validation, confusion matrix, ROC curve, precision, recall, f-measure "
   ]
  },
  {
   "cell_type": "markdown",
   "id": "343f8320",
   "metadata": {},
   "source": [
    "# Modeling: Best Cost-Sensitive Model\n",
    "Using 10:1 cost ratio: <br> \n",
    "misclassifying a legitimate email as spam is 10 times more costly than classifying spam as a legitimate email"
   ]
  },
  {
   "cell_type": "code",
   "execution_count": null,
   "id": "ce82c180",
   "metadata": {},
   "outputs": [],
   "source": [
    "# Repeat previous models, optimize for cost-sensitivity"
   ]
  },
  {
   "cell_type": "code",
   "execution_count": null,
   "id": "06ce52e4",
   "metadata": {},
   "outputs": [],
   "source": [
    "# Model Evaluation: cross-validation, confusion matrix, ROC curve, precision, recall, f-measure"
   ]
  },
  {
   "cell_type": "code",
   "execution_count": null,
   "id": "a194b21c",
   "metadata": {},
   "outputs": [],
   "source": [
    "# Visualization of cost-sensitivity performance"
   ]
  },
  {
   "cell_type": "markdown",
   "id": "1dd0d39b",
   "metadata": {},
   "source": [
    "# Discussion of Results\n",
    "Finally, as a deliverable, produce a write-up (i.e., a single PDF file) describing your \n",
    "aforementioned explorations. <br>\n",
    "Report the performances of different models that you tried (i.e., using different data mining techniques, different attribute selection techniques, etc.) <br> \n",
    "What was the performance of the best model in the cost-unaware task (i.e., in terms of accuracy)?<br>\n",
    "What was the performance of the best model in the cost-aware task (i.e., in \n",
    "terms of expected cost)?<br> \n",
    "Discuss the best models in two different tasks (as well as their performance) in detail, provide some comparisons. <br>\n",
    "Draw some conclusions from the assignment.   "
   ]
  },
  {
   "cell_type": "code",
   "execution_count": null,
   "id": "e96c4930",
   "metadata": {},
   "outputs": [],
   "source": []
  }
 ],
 "metadata": {
  "kernelspec": {
   "display_name": "Python 3 (ipykernel)",
   "language": "python",
   "name": "python3"
  },
  "language_info": {
   "codemirror_mode": {
    "name": "ipython",
    "version": 3
   },
   "file_extension": ".py",
   "mimetype": "text/x-python",
   "name": "python",
   "nbconvert_exporter": "python",
   "pygments_lexer": "ipython3",
   "version": "3.8.12"
  }
 },
 "nbformat": 4,
 "nbformat_minor": 5
}
