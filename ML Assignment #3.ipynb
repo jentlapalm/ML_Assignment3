{
 "cells": [
  {
   "cell_type": "markdown",
   "id": "97fc9640",
   "metadata": {},
   "source": [
    "# Loading Data, Packages"
   ]
  },
  {
   "cell_type": "code",
   "execution_count": 33,
   "id": "37980040",
   "metadata": {},
   "outputs": [],
   "source": [
    "# loading packages\n",
    "import pandas as pd\n",
    "import numpy as np\n",
    "import re\n",
    "\n",
    "# load spambase dataset PC\n",
    "# df=pd.read_csv(r\"C:\\Users\\Jent\\Documents\\College\\Emory\\Machine Learning II\\Assignment 3\\spambase.data\",header=None)\n",
    "\n",
    "# load spambase dataset LAPTOP\n",
    "df=pd.read_csv(r\"C:\\Users\\jentl\\Documents\\Emory\\Spring 2022\\Machine Learning II\\Assignment 3\\spambase.data\",header=None)"
   ]
  },
  {
   "cell_type": "code",
   "execution_count": 34,
   "id": "0d6b2bbc",
   "metadata": {},
   "outputs": [],
   "source": [
    "# turning off warnings for better readability\n",
    "import warnings\n",
    "warnings.filterwarnings('ignore') #'ignore' to turn warnings off, 'default' to restore "
   ]
  },
  {
   "cell_type": "code",
   "execution_count": 35,
   "id": "69793b25",
   "metadata": {},
   "outputs": [],
   "source": [
    "# getting column names, PC\n",
    "#with open(r\"C:\\Users\\Jent\\Documents\\College\\Emory\\Machine Learning II\\Assignment 3\\spambase.names\") as f:\n",
    "#    lines = f.readlines()\n",
    "\n",
    "# getting column names, LAPTOP\n",
    "with open(r\"C:\\Users\\jentl\\Documents\\Emory\\Spring 2022\\Machine Learning II\\Assignment 3\\spambase.names\") as f:\n",
    "    lines = f.readlines()\n",
    "\n",
    "# initialize empty list\n",
    "newlist = []\n",
    "for x in lines:\n",
    "     split_results = x.split(':')\n",
    "     newlist.append(split_results[0])\n",
    "\n",
    "colnames=[x for x in newlist if x.startswith(('w', 'c'))]\n",
    "colnames.append('spam')"
   ]
  },
  {
   "cell_type": "code",
   "execution_count": 36,
   "id": "e985c90c",
   "metadata": {},
   "outputs": [],
   "source": [
    "# adding column names to df\n",
    "df.columns=colnames"
   ]
  },
  {
   "cell_type": "code",
   "execution_count": 37,
   "id": "093f6eb7",
   "metadata": {},
   "outputs": [],
   "source": [
    "# renaming columns due to errors in modeling stage\n",
    "df=df.rename(columns={'char_freq_;':'char_freq_semi_colon',\n",
    "                   'char_freq_(':'char_freq_paren',\n",
    "                  'char_freq_[':'char_freq_bracket'})"
   ]
  },
  {
   "cell_type": "markdown",
   "id": "1ec101c2",
   "metadata": {},
   "source": [
    "## EDA\n",
    "Spam=1, Non-Spam=0"
   ]
  },
  {
   "cell_type": "code",
   "execution_count": 38,
   "id": "274cc630",
   "metadata": {},
   "outputs": [
    {
     "data": {
      "text/html": [
       "<div>\n",
       "<style scoped>\n",
       "    .dataframe tbody tr th:only-of-type {\n",
       "        vertical-align: middle;\n",
       "    }\n",
       "\n",
       "    .dataframe tbody tr th {\n",
       "        vertical-align: top;\n",
       "    }\n",
       "\n",
       "    .dataframe thead th {\n",
       "        text-align: right;\n",
       "    }\n",
       "</style>\n",
       "<table border=\"1\" class=\"dataframe\">\n",
       "  <thead>\n",
       "    <tr style=\"text-align: right;\">\n",
       "      <th></th>\n",
       "      <th>word_freq_make</th>\n",
       "      <th>word_freq_address</th>\n",
       "      <th>word_freq_all</th>\n",
       "      <th>word_freq_3d</th>\n",
       "      <th>word_freq_our</th>\n",
       "      <th>word_freq_over</th>\n",
       "      <th>word_freq_remove</th>\n",
       "      <th>word_freq_internet</th>\n",
       "      <th>word_freq_order</th>\n",
       "      <th>word_freq_mail</th>\n",
       "      <th>...</th>\n",
       "      <th>char_freq_semi_colon</th>\n",
       "      <th>char_freq_paren</th>\n",
       "      <th>char_freq_bracket</th>\n",
       "      <th>char_freq_!</th>\n",
       "      <th>char_freq_$</th>\n",
       "      <th>char_freq_#</th>\n",
       "      <th>capital_run_length_average</th>\n",
       "      <th>capital_run_length_longest</th>\n",
       "      <th>capital_run_length_total</th>\n",
       "      <th>spam</th>\n",
       "    </tr>\n",
       "  </thead>\n",
       "  <tbody>\n",
       "    <tr>\n",
       "      <th>0</th>\n",
       "      <td>0.00</td>\n",
       "      <td>0.64</td>\n",
       "      <td>0.64</td>\n",
       "      <td>0.0</td>\n",
       "      <td>0.32</td>\n",
       "      <td>0.00</td>\n",
       "      <td>0.00</td>\n",
       "      <td>0.00</td>\n",
       "      <td>0.00</td>\n",
       "      <td>0.00</td>\n",
       "      <td>...</td>\n",
       "      <td>0.00</td>\n",
       "      <td>0.000</td>\n",
       "      <td>0.0</td>\n",
       "      <td>0.778</td>\n",
       "      <td>0.000</td>\n",
       "      <td>0.000</td>\n",
       "      <td>3.756</td>\n",
       "      <td>61</td>\n",
       "      <td>278</td>\n",
       "      <td>1</td>\n",
       "    </tr>\n",
       "    <tr>\n",
       "      <th>1</th>\n",
       "      <td>0.21</td>\n",
       "      <td>0.28</td>\n",
       "      <td>0.50</td>\n",
       "      <td>0.0</td>\n",
       "      <td>0.14</td>\n",
       "      <td>0.28</td>\n",
       "      <td>0.21</td>\n",
       "      <td>0.07</td>\n",
       "      <td>0.00</td>\n",
       "      <td>0.94</td>\n",
       "      <td>...</td>\n",
       "      <td>0.00</td>\n",
       "      <td>0.132</td>\n",
       "      <td>0.0</td>\n",
       "      <td>0.372</td>\n",
       "      <td>0.180</td>\n",
       "      <td>0.048</td>\n",
       "      <td>5.114</td>\n",
       "      <td>101</td>\n",
       "      <td>1028</td>\n",
       "      <td>1</td>\n",
       "    </tr>\n",
       "    <tr>\n",
       "      <th>2</th>\n",
       "      <td>0.06</td>\n",
       "      <td>0.00</td>\n",
       "      <td>0.71</td>\n",
       "      <td>0.0</td>\n",
       "      <td>1.23</td>\n",
       "      <td>0.19</td>\n",
       "      <td>0.19</td>\n",
       "      <td>0.12</td>\n",
       "      <td>0.64</td>\n",
       "      <td>0.25</td>\n",
       "      <td>...</td>\n",
       "      <td>0.01</td>\n",
       "      <td>0.143</td>\n",
       "      <td>0.0</td>\n",
       "      <td>0.276</td>\n",
       "      <td>0.184</td>\n",
       "      <td>0.010</td>\n",
       "      <td>9.821</td>\n",
       "      <td>485</td>\n",
       "      <td>2259</td>\n",
       "      <td>1</td>\n",
       "    </tr>\n",
       "    <tr>\n",
       "      <th>3</th>\n",
       "      <td>0.00</td>\n",
       "      <td>0.00</td>\n",
       "      <td>0.00</td>\n",
       "      <td>0.0</td>\n",
       "      <td>0.63</td>\n",
       "      <td>0.00</td>\n",
       "      <td>0.31</td>\n",
       "      <td>0.63</td>\n",
       "      <td>0.31</td>\n",
       "      <td>0.63</td>\n",
       "      <td>...</td>\n",
       "      <td>0.00</td>\n",
       "      <td>0.137</td>\n",
       "      <td>0.0</td>\n",
       "      <td>0.137</td>\n",
       "      <td>0.000</td>\n",
       "      <td>0.000</td>\n",
       "      <td>3.537</td>\n",
       "      <td>40</td>\n",
       "      <td>191</td>\n",
       "      <td>1</td>\n",
       "    </tr>\n",
       "    <tr>\n",
       "      <th>4</th>\n",
       "      <td>0.00</td>\n",
       "      <td>0.00</td>\n",
       "      <td>0.00</td>\n",
       "      <td>0.0</td>\n",
       "      <td>0.63</td>\n",
       "      <td>0.00</td>\n",
       "      <td>0.31</td>\n",
       "      <td>0.63</td>\n",
       "      <td>0.31</td>\n",
       "      <td>0.63</td>\n",
       "      <td>...</td>\n",
       "      <td>0.00</td>\n",
       "      <td>0.135</td>\n",
       "      <td>0.0</td>\n",
       "      <td>0.135</td>\n",
       "      <td>0.000</td>\n",
       "      <td>0.000</td>\n",
       "      <td>3.537</td>\n",
       "      <td>40</td>\n",
       "      <td>191</td>\n",
       "      <td>1</td>\n",
       "    </tr>\n",
       "  </tbody>\n",
       "</table>\n",
       "<p>5 rows × 58 columns</p>\n",
       "</div>"
      ],
      "text/plain": [
       "   word_freq_make  word_freq_address  word_freq_all  word_freq_3d  \\\n",
       "0            0.00               0.64           0.64           0.0   \n",
       "1            0.21               0.28           0.50           0.0   \n",
       "2            0.06               0.00           0.71           0.0   \n",
       "3            0.00               0.00           0.00           0.0   \n",
       "4            0.00               0.00           0.00           0.0   \n",
       "\n",
       "   word_freq_our  word_freq_over  word_freq_remove  word_freq_internet  \\\n",
       "0           0.32            0.00              0.00                0.00   \n",
       "1           0.14            0.28              0.21                0.07   \n",
       "2           1.23            0.19              0.19                0.12   \n",
       "3           0.63            0.00              0.31                0.63   \n",
       "4           0.63            0.00              0.31                0.63   \n",
       "\n",
       "   word_freq_order  word_freq_mail  ...  char_freq_semi_colon  \\\n",
       "0             0.00            0.00  ...                  0.00   \n",
       "1             0.00            0.94  ...                  0.00   \n",
       "2             0.64            0.25  ...                  0.01   \n",
       "3             0.31            0.63  ...                  0.00   \n",
       "4             0.31            0.63  ...                  0.00   \n",
       "\n",
       "   char_freq_paren  char_freq_bracket  char_freq_!  char_freq_$  char_freq_#  \\\n",
       "0            0.000                0.0        0.778        0.000        0.000   \n",
       "1            0.132                0.0        0.372        0.180        0.048   \n",
       "2            0.143                0.0        0.276        0.184        0.010   \n",
       "3            0.137                0.0        0.137        0.000        0.000   \n",
       "4            0.135                0.0        0.135        0.000        0.000   \n",
       "\n",
       "   capital_run_length_average  capital_run_length_longest  \\\n",
       "0                       3.756                          61   \n",
       "1                       5.114                         101   \n",
       "2                       9.821                         485   \n",
       "3                       3.537                          40   \n",
       "4                       3.537                          40   \n",
       "\n",
       "   capital_run_length_total  spam  \n",
       "0                       278     1  \n",
       "1                      1028     1  \n",
       "2                      2259     1  \n",
       "3                       191     1  \n",
       "4                       191     1  \n",
       "\n",
       "[5 rows x 58 columns]"
      ]
     },
     "execution_count": 38,
     "metadata": {},
     "output_type": "execute_result"
    }
   ],
   "source": [
    "df.head()"
   ]
  },
  {
   "cell_type": "code",
   "execution_count": 39,
   "id": "13cebc1e",
   "metadata": {
    "scrolled": true
   },
   "outputs": [
    {
     "data": {
      "text/plain": [
       "0    2788\n",
       "1    1813\n",
       "Name: spam, dtype: int64"
      ]
     },
     "execution_count": 39,
     "metadata": {},
     "output_type": "execute_result"
    }
   ],
   "source": [
    "# count of target variable\n",
    "df.spam.value_counts()"
   ]
  },
  {
   "cell_type": "code",
   "execution_count": 40,
   "id": "e1ee6e52",
   "metadata": {},
   "outputs": [
    {
     "data": {
      "text/plain": [
       "0    0.605955\n",
       "1    0.394045\n",
       "Name: spam, dtype: float64"
      ]
     },
     "execution_count": 40,
     "metadata": {},
     "output_type": "execute_result"
    }
   ],
   "source": [
    "df.spam.value_counts(normalize=True)"
   ]
  },
  {
   "cell_type": "markdown",
   "id": "29ca9a9a",
   "metadata": {},
   "source": [
    "### Commentary\n",
    "There is a class imbalance between spam and not spam which may need addressing"
   ]
  },
  {
   "cell_type": "code",
   "execution_count": 41,
   "id": "7770a7a0",
   "metadata": {
    "scrolled": true
   },
   "outputs": [
    {
     "data": {
      "text/html": [
       "<div>\n",
       "<style scoped>\n",
       "    .dataframe tbody tr th:only-of-type {\n",
       "        vertical-align: middle;\n",
       "    }\n",
       "\n",
       "    .dataframe tbody tr th {\n",
       "        vertical-align: top;\n",
       "    }\n",
       "\n",
       "    .dataframe thead th {\n",
       "        text-align: right;\n",
       "    }\n",
       "</style>\n",
       "<table border=\"1\" class=\"dataframe\">\n",
       "  <thead>\n",
       "    <tr style=\"text-align: right;\">\n",
       "      <th></th>\n",
       "      <th>word_freq_make</th>\n",
       "      <th>word_freq_address</th>\n",
       "      <th>word_freq_all</th>\n",
       "      <th>word_freq_3d</th>\n",
       "      <th>word_freq_our</th>\n",
       "      <th>word_freq_over</th>\n",
       "      <th>word_freq_remove</th>\n",
       "      <th>word_freq_internet</th>\n",
       "      <th>word_freq_order</th>\n",
       "      <th>word_freq_mail</th>\n",
       "      <th>...</th>\n",
       "      <th>word_freq_conference</th>\n",
       "      <th>char_freq_semi_colon</th>\n",
       "      <th>char_freq_paren</th>\n",
       "      <th>char_freq_bracket</th>\n",
       "      <th>char_freq_!</th>\n",
       "      <th>char_freq_$</th>\n",
       "      <th>char_freq_#</th>\n",
       "      <th>capital_run_length_average</th>\n",
       "      <th>capital_run_length_longest</th>\n",
       "      <th>capital_run_length_total</th>\n",
       "    </tr>\n",
       "    <tr>\n",
       "      <th>spam</th>\n",
       "      <th></th>\n",
       "      <th></th>\n",
       "      <th></th>\n",
       "      <th></th>\n",
       "      <th></th>\n",
       "      <th></th>\n",
       "      <th></th>\n",
       "      <th></th>\n",
       "      <th></th>\n",
       "      <th></th>\n",
       "      <th></th>\n",
       "      <th></th>\n",
       "      <th></th>\n",
       "      <th></th>\n",
       "      <th></th>\n",
       "      <th></th>\n",
       "      <th></th>\n",
       "      <th></th>\n",
       "      <th></th>\n",
       "      <th></th>\n",
       "      <th></th>\n",
       "    </tr>\n",
       "  </thead>\n",
       "  <tbody>\n",
       "    <tr>\n",
       "      <th>0</th>\n",
       "      <td>0.073479</td>\n",
       "      <td>0.244466</td>\n",
       "      <td>0.200581</td>\n",
       "      <td>0.000886</td>\n",
       "      <td>0.181040</td>\n",
       "      <td>0.044544</td>\n",
       "      <td>0.009383</td>\n",
       "      <td>0.038415</td>\n",
       "      <td>0.038049</td>\n",
       "      <td>0.167170</td>\n",
       "      <td>...</td>\n",
       "      <td>0.051227</td>\n",
       "      <td>0.050281</td>\n",
       "      <td>0.158578</td>\n",
       "      <td>0.022684</td>\n",
       "      <td>0.109984</td>\n",
       "      <td>0.011648</td>\n",
       "      <td>0.021713</td>\n",
       "      <td>2.377301</td>\n",
       "      <td>18.214491</td>\n",
       "      <td>161.470947</td>\n",
       "    </tr>\n",
       "    <tr>\n",
       "      <th>1</th>\n",
       "      <td>0.152339</td>\n",
       "      <td>0.164650</td>\n",
       "      <td>0.403795</td>\n",
       "      <td>0.164672</td>\n",
       "      <td>0.513955</td>\n",
       "      <td>0.174876</td>\n",
       "      <td>0.275405</td>\n",
       "      <td>0.208141</td>\n",
       "      <td>0.170061</td>\n",
       "      <td>0.350507</td>\n",
       "      <td>...</td>\n",
       "      <td>0.002101</td>\n",
       "      <td>0.020573</td>\n",
       "      <td>0.108970</td>\n",
       "      <td>0.008199</td>\n",
       "      <td>0.513713</td>\n",
       "      <td>0.174478</td>\n",
       "      <td>0.078877</td>\n",
       "      <td>9.519165</td>\n",
       "      <td>104.393271</td>\n",
       "      <td>470.619415</td>\n",
       "    </tr>\n",
       "  </tbody>\n",
       "</table>\n",
       "<p>2 rows × 57 columns</p>\n",
       "</div>"
      ],
      "text/plain": [
       "      word_freq_make  word_freq_address  word_freq_all  word_freq_3d  \\\n",
       "spam                                                                   \n",
       "0           0.073479           0.244466       0.200581      0.000886   \n",
       "1           0.152339           0.164650       0.403795      0.164672   \n",
       "\n",
       "      word_freq_our  word_freq_over  word_freq_remove  word_freq_internet  \\\n",
       "spam                                                                        \n",
       "0          0.181040        0.044544          0.009383            0.038415   \n",
       "1          0.513955        0.174876          0.275405            0.208141   \n",
       "\n",
       "      word_freq_order  word_freq_mail  ...  word_freq_conference  \\\n",
       "spam                                   ...                         \n",
       "0            0.038049        0.167170  ...              0.051227   \n",
       "1            0.170061        0.350507  ...              0.002101   \n",
       "\n",
       "      char_freq_semi_colon  char_freq_paren  char_freq_bracket  char_freq_!  \\\n",
       "spam                                                                          \n",
       "0                 0.050281         0.158578           0.022684     0.109984   \n",
       "1                 0.020573         0.108970           0.008199     0.513713   \n",
       "\n",
       "      char_freq_$  char_freq_#  capital_run_length_average  \\\n",
       "spam                                                         \n",
       "0        0.011648     0.021713                    2.377301   \n",
       "1        0.174478     0.078877                    9.519165   \n",
       "\n",
       "      capital_run_length_longest  capital_run_length_total  \n",
       "spam                                                        \n",
       "0                      18.214491                161.470947  \n",
       "1                     104.393271                470.619415  \n",
       "\n",
       "[2 rows x 57 columns]"
      ]
     },
     "execution_count": 41,
     "metadata": {},
     "output_type": "execute_result"
    }
   ],
   "source": [
    "# comparing mean of features by spam/not spam\n",
    "df.groupby('spam').mean()"
   ]
  },
  {
   "cell_type": "markdown",
   "id": "cba5bf94",
   "metadata": {},
   "source": [
    "## Data Cleaning"
   ]
  },
  {
   "cell_type": "code",
   "execution_count": 42,
   "id": "bd64c492",
   "metadata": {},
   "outputs": [
    {
     "data": {
      "text/plain": [
       "False"
      ]
     },
     "execution_count": 42,
     "metadata": {},
     "output_type": "execute_result"
    }
   ],
   "source": [
    "# checking for nulls\n",
    "df.isnull().values.any()"
   ]
  },
  {
   "cell_type": "code",
   "execution_count": 43,
   "id": "87e2b595",
   "metadata": {},
   "outputs": [
    {
     "name": "stdout",
     "output_type": "stream",
     "text": [
      "0.08 percent of the data are duplicate rows\n"
     ]
    }
   ],
   "source": [
    "# checking for duplicate rows\n",
    "print(np.round(df.duplicated().sum()/len(df),2), 'percent of the data are duplicate rows')"
   ]
  },
  {
   "cell_type": "code",
   "execution_count": 44,
   "id": "4a97e4b0",
   "metadata": {},
   "outputs": [],
   "source": [
    "# dropping duplicate rows\n",
    "df=df.drop_duplicates()"
   ]
  },
  {
   "cell_type": "markdown",
   "id": "7f56434b",
   "metadata": {},
   "source": [
    "# Modeling: Highest Overall Accuracy\n"
   ]
  },
  {
   "cell_type": "code",
   "execution_count": 45,
   "id": "49e08383",
   "metadata": {},
   "outputs": [],
   "source": [
    "# Imports for modeling\n",
    "import xgboost as xgb\n",
    "from sklearn.pipeline import Pipeline\n",
    "from sklearn.model_selection import RandomizedSearchCV\n",
    "from sklearn.preprocessing import StandardScaler"
   ]
  },
  {
   "cell_type": "code",
   "execution_count": 46,
   "id": "9159c144",
   "metadata": {},
   "outputs": [],
   "source": [
    "# shuffling dataframe so that it is not ordered by spam/not spam\n",
    "df = df.sample(frac=1).reset_index(drop=True)"
   ]
  },
  {
   "cell_type": "code",
   "execution_count": 47,
   "id": "beba0fcb",
   "metadata": {},
   "outputs": [],
   "source": [
    "# Setting features, target variable\n",
    "X, y=df.iloc[:,:-1],df.iloc[:,-1]"
   ]
  },
  {
   "cell_type": "markdown",
   "id": "cf09d172",
   "metadata": {},
   "source": [
    "## XGBoost\n",
    "This XGBoost pipeline setup with hyperparameter tuning via randomized search is based of a datacamp tutorial found here: <br>\n",
    "https://campus.datacamp.com/courses/extreme-gradient-boosting-with-xgboost/using-xgboost-in-pipelines?ex=12"
   ]
  },
  {
   "cell_type": "code",
   "execution_count": 94,
   "id": "61059b7e",
   "metadata": {},
   "outputs": [
    {
     "data": {
      "text/plain": [
       "RandomizedSearchCV(cv=4,\n",
       "                   estimator=Pipeline(steps=[('scaler', StandardScaler()),\n",
       "                                             ('xgbm',\n",
       "                                              XGBClassifier(base_score=None,\n",
       "                                                            booster=None,\n",
       "                                                            colsample_bylevel=None,\n",
       "                                                            colsample_bynode=None,\n",
       "                                                            colsample_bytree=None,\n",
       "                                                            enable_categorical=False,\n",
       "                                                            eval_metric='logloss',\n",
       "                                                            gamma=None,\n",
       "                                                            gpu_id=None,\n",
       "                                                            importance_type=None,\n",
       "                                                            interaction_constraints=None,\n",
       "                                                            learning_rate=None,\n",
       "                                                            max_delta_step=...\n",
       "                   param_distributions={'xgbm__colsample_bytree': array([0.1 , 0.15, 0.2 , 0.25, 0.3 , 0.35, 0.4 , 0.45, 0.5 , 0.55, 0.6 ,\n",
       "       0.65, 0.7 , 0.75, 0.8 , 0.85, 0.9 , 0.95, 1.  ]),\n",
       "                                        'xgbm__eta': array([0.  , 0.05, 0.1 , 0.15, 0.2 , 0.25, 0.3 , 0.35, 0.4 , 0.45, 0.5 ,\n",
       "       0.55, 0.6 , 0.65, 0.7 , 0.75, 0.8 , 0.85, 0.9 , 0.95]),\n",
       "                                        'xgbm__max_depth': array([ 3,  4,  5,  6,  7,  8,  9, 10, 11, 12, 13, 14, 15, 16, 17, 18, 19]),\n",
       "                                        'xgbm__subsample': array([0.5])},\n",
       "                   scoring='accuracy')"
      ]
     },
     "execution_count": 94,
     "metadata": {},
     "output_type": "execute_result"
    }
   ],
   "source": [
    "# XGBoost Decision Tree and Hyperparameter Tuning\n",
    "xgb_pipeline=Pipeline([('scaler', StandardScaler()),\n",
    "                      ('xgbm',xgb.XGBClassifier(eval_metric='logloss'))])\n",
    "\n",
    "# search parameters\n",
    "params={'xgbm__subsample':np.arange(0.5,1,.5),\n",
    "       'xgbm__max_depth':np.arange(3,20,1),\n",
    "       'xgbm__colsample_bytree':np.arange(.1,1.05,0.05),\n",
    "       'xgbm__eta':np.arange(0,1,0.05)}\n",
    "\n",
    "rs=RandomizedSearchCV(estimator=xgb_pipeline,param_distributions=params,n_iter=10,scoring='accuracy',cv=4)\n",
    "rs.fit(X,y)"
   ]
  },
  {
   "cell_type": "code",
   "execution_count": 95,
   "id": "337a491f",
   "metadata": {},
   "outputs": [
    {
     "name": "stdout",
     "output_type": "stream",
     "text": [
      "best model Pipeline(steps=[('scaler', StandardScaler()),\n",
      "                ('xgbm',\n",
      "                 XGBClassifier(base_score=0.5, booster='gbtree',\n",
      "                               colsample_bylevel=1, colsample_bynode=1,\n",
      "                               colsample_bytree=0.25000000000000006,\n",
      "                               enable_categorical=False,\n",
      "                               eta=0.15000000000000002, eval_metric='logloss',\n",
      "                               gamma=0, gpu_id=-1, importance_type=None,\n",
      "                               interaction_constraints='',\n",
      "                               learning_rate=0.150000006, max_delta_step=0,\n",
      "                               max_depth=13, min_child_weight=1, missing=nan,\n",
      "                               monotone_constraints='()', n_estimators=100,\n",
      "                               n_jobs=12, num_parallel_tree=1, predictor='auto',\n",
      "                               random_state=0, reg_alpha=0, reg_lambda=1,\n",
      "                               scale_pos_weight=1, subsample=0.5,\n",
      "                               tree_method='exact', validate_parameters=1,\n",
      "                               verbosity=None))])\n",
      "best accuracy 0.9486913183047531\n"
     ]
    }
   ],
   "source": [
    "# getting results\n",
    "print('best model',rs.best_estimator_)\n",
    "print('best accuracy',rs.best_score_)"
   ]
  },
  {
   "cell_type": "code",
   "execution_count": 86,
   "id": "1a26ae61",
   "metadata": {},
   "outputs": [
    {
     "name": "stdout",
     "output_type": "stream",
     "text": [
      "accuracy of 0.9510677441602663 with a standard deviation of 0.0032036241036288303\n"
     ]
    }
   ],
   "source": [
    "# cross val scores\n",
    "from sklearn.model_selection import cross_val_score\n",
    "\n",
    "rs_pipeline=Pipeline([('scaler', StandardScaler()),\n",
    "                      ('xgbm',xgb.XGBClassifier(base_score=0.5, booster='gbtree', colsample_bylevel=1,\n",
    "              colsample_bynode=1, colsample_bytree=0.7500000000000002,\n",
    "              enable_categorical=False, eta=0.1, eval_metric='logloss', gamma=0,\n",
    "              gpu_id=-1, importance_type=None, interaction_constraints='',\n",
    "              learning_rate=0.100000001, max_delta_step=0, max_depth=12,\n",
    "              min_child_weight=1, monotone_constraints='()',\n",
    "              n_estimators=100, n_jobs=12, num_parallel_tree=1,\n",
    "              predictor='auto', random_state=0, reg_alpha=0, reg_lambda=1,\n",
    "              scale_pos_weight=1, subsample=0.5, tree_method='exact',\n",
    "              validate_parameters=1, verbosity=None))])\n",
    "\n",
    "scores = cross_val_score(rs_pipeline, X, y, cv=4, scoring='accuracy')\n",
    "\n",
    "print(\"accuracy of\", scores.mean(), 'with a standard deviation of', scores.std())"
   ]
  },
  {
   "cell_type": "code",
   "execution_count": 80,
   "id": "4888a160",
   "metadata": {
    "collapsed": true
   },
   "outputs": [
    {
     "data": {
      "text/plain": [
       "BayesSearchCV(cv=4,\n",
       "              estimator=Pipeline(steps=[('scaler', StandardScaler()),\n",
       "                                        ('xgbm',\n",
       "                                         XGBClassifier(base_score=None,\n",
       "                                                       booster=None,\n",
       "                                                       colsample_bylevel=None,\n",
       "                                                       colsample_bynode=None,\n",
       "                                                       colsample_bytree=None,\n",
       "                                                       enable_categorical=False,\n",
       "                                                       eval_metric='logloss',\n",
       "                                                       gamma=None, gpu_id=None,\n",
       "                                                       importance_type=None,\n",
       "                                                       interaction_constraints=None,\n",
       "                                                       learning_rate=None,\n",
       "                                                       max_delta_step=None,...\n",
       "              n_iter=10, scoring='accuracy',\n",
       "              search_spaces={'xgbm__colsample_bytree': Real(low=0.5, high=1, prior='log-uniform', transform='normalize'),\n",
       "                             'xgbm__eta': Real(low=0.01, high=0.5, prior='log-uniform', transform='normalize'),\n",
       "                             'xgbm__max_depth': Integer(low=10, high=20, prior='uniform', transform='normalize'),\n",
       "                             'xgbm__subsample': Real(low=0.1, high=1, prior='log-uniform', transform='normalize')})"
      ]
     },
     "execution_count": 80,
     "metadata": {},
     "output_type": "execute_result"
    }
   ],
   "source": [
    "# using bayesian search to further tune hyperparameters\n",
    "from skopt import BayesSearchCV\n",
    "from skopt.space import Real, Categorical, Integer\n",
    "\n",
    "params={'xgbm__subsample':Real(0.1,1,prior='log-uniform'),\n",
    "       'xgbm__max_depth':Integer(10,20),\n",
    "       'xgbm__colsample_bytree':Real(0.5,1,prior='log-uniform'),\n",
    "       'xgbm__eta':Real(0.01,0.5,prior='log-uniform')}\n",
    "\n",
    "bs=BayesSearchCV(estimator=xgb_pipeline,search_spaces=params,n_iter=10,scoring='accuracy',cv=4,verbose=0)\n",
    "bs.fit(X,y)"
   ]
  },
  {
   "cell_type": "code",
   "execution_count": 81,
   "id": "e83b40db",
   "metadata": {},
   "outputs": [
    {
     "name": "stdout",
     "output_type": "stream",
     "text": [
      "best model Pipeline(steps=[('scaler', StandardScaler()),\n",
      "                ('xgbm',\n",
      "                 XGBClassifier(base_score=0.5, booster='gbtree',\n",
      "                               colsample_bylevel=1, colsample_bynode=1,\n",
      "                               colsample_bytree=0.6960216273904202,\n",
      "                               enable_categorical=False,\n",
      "                               eta=0.047816552749916044, eval_metric='logloss',\n",
      "                               gamma=0, gpu_id=-1, importance_type=None,\n",
      "                               interaction_constraints='',\n",
      "                               learning_rate=0.0478165522, max_delta_step=0,\n",
      "                               max_depth=17, min_child_weight=1, missing=nan,\n",
      "                               monotone_constraints='()', n_estimators=100,\n",
      "                               n_jobs=12, num_parallel_tree=1, predictor='auto',\n",
      "                               random_state=0, reg_alpha=0, reg_lambda=1,\n",
      "                               scale_pos_weight=1, subsample=0.7213491114236009,\n",
      "                               tree_method='exact', validate_parameters=1,\n",
      "                               verbosity=None))])\n",
      "best accuracy 0.9496421143284262\n"
     ]
    }
   ],
   "source": [
    "# getting results\n",
    "print('best model',bs.best_estimator_)\n",
    "print('best accuracy',bs.best_score_)"
   ]
  },
  {
   "cell_type": "code",
   "execution_count": 87,
   "id": "64371f17",
   "metadata": {},
   "outputs": [
    {
     "name": "stdout",
     "output_type": "stream",
     "text": [
      "accuracy of 0.9496421143284262 with a standard deviation of 0.004423314872897512\n"
     ]
    }
   ],
   "source": [
    "# double-checking these results with cross-validated scoring\n",
    "from sklearn.model_selection import cross_val_score\n",
    "\n",
    "bs_pipeline=Pipeline([('scaler', StandardScaler()),\n",
    "                      ('xgbm',xgb.XGBClassifier(base_score=0.5, booster='gbtree',\n",
    "                               colsample_bylevel=1, colsample_bynode=1,\n",
    "                               colsample_bytree=0.6960216273904202,\n",
    "                               enable_categorical=False,\n",
    "                               eta=0.047816552749916044, eval_metric='logloss',\n",
    "                               gamma=0, gpu_id=-1, importance_type=None,\n",
    "                               interaction_constraints='',\n",
    "                               learning_rate=0.0478165522, max_delta_step=0,\n",
    "                               max_depth=17, min_child_weight=1,\n",
    "                               monotone_constraints='()', n_estimators=100,\n",
    "                               n_jobs=12, num_parallel_tree=1, predictor='auto',\n",
    "                               random_state=0, reg_alpha=0, reg_lambda=1,\n",
    "                               scale_pos_weight=1, subsample=0.7213491114236009,\n",
    "                               tree_method='exact', validate_parameters=1,\n",
    "                               verbosity=None))])\n",
    "\n",
    "scores = cross_val_score(bs_pipeline, X, y, cv=4, scoring='accuracy')\n",
    "print(\"accuracy of\", scores.mean(), 'with a standard deviation of', scores.std())"
   ]
  },
  {
   "cell_type": "markdown",
   "id": "40b6a40b",
   "metadata": {},
   "source": [
    "### Commentary\n",
    "These results are fairly good. It was suprising to see that the results of the randomized search hyperaparameter tuning slightly outperformed the bayesian search implemented to refine the random search results."
   ]
  },
  {
   "cell_type": "code",
   "execution_count": 83,
   "id": "cf14ceab",
   "metadata": {},
   "outputs": [],
   "source": [
    "# Comparison of previous code blocks withouth normalization\n",
    "xgbm_best=xgb.XGBClassifier(base_score=0.5, booster='gbtree',\n",
    "                               colsample_bylevel=1, colsample_bynode=1,\n",
    "                               colsample_bytree=0.5433255598386683,\n",
    "                               enable_categorical=False,\n",
    "                               eta=0.11161172731290236, eval_metric='logloss',\n",
    "                               gamma=0, gpu_id=-1, importance_type=None,\n",
    "                               interaction_constraints='',\n",
    "                               learning_rate=0.111611724, max_delta_step=0,\n",
    "                               max_depth=18, min_child_weight=1, \n",
    "                               monotone_constraints='()', n_estimators=100,\n",
    "                               n_jobs=4, num_parallel_tree=1, predictor='auto',\n",
    "                               random_state=0, reg_alpha=0, reg_lambda=1,\n",
    "                               scale_pos_weight=1, subsample=0.8932208090471943,\n",
    "                               tree_method='exact', validate_parameters=1,\n",
    "                               verbosity=None)"
   ]
  },
  {
   "cell_type": "code",
   "execution_count": 84,
   "id": "e37813df",
   "metadata": {},
   "outputs": [
    {
     "name": "stdout",
     "output_type": "stream",
     "text": [
      "accuracy of 0.948930314979111 with a standard deviation of 0.004006627095123382\n"
     ]
    }
   ],
   "source": [
    "scores = cross_val_score(xgbm_best, X, y, cv=4, scoring='accuracy')\n",
    "print(\"accuracy of\", scores.mean(), 'with a standard deviation of', scores.std())"
   ]
  },
  {
   "cell_type": "markdown",
   "id": "26d5f70a",
   "metadata": {},
   "source": [
    "### Commentary\n",
    "Removing standard scaling decreased XGBoost performance by roughly .1%, less that one standard deviation from previous performance"
   ]
  },
  {
   "cell_type": "code",
   "execution_count": 57,
   "id": "de436e50",
   "metadata": {},
   "outputs": [
    {
     "data": {
      "text/plain": [
       "Pipeline(steps=[('scaler', StandardScaler()),\n",
       "                ('xgbm',\n",
       "                 XGBClassifier(base_score=0.5, booster='gbtree',\n",
       "                               colsample_bylevel=1, colsample_bynode=1,\n",
       "                               colsample_bytree=0.5433255598386683,\n",
       "                               enable_categorical=False,\n",
       "                               eta=0.11161172731290236, eval_metric='logloss',\n",
       "                               gamma=0, gpu_id=-1, importance_type=None,\n",
       "                               interaction_constraints='',\n",
       "                               learning_rate=0.111611724, max_delta_step=0,\n",
       "                               max_depth=18, min_child_weight=1, missing=nan,\n",
       "                               monotone_constraints='()', n_estimators=100,\n",
       "                               n_jobs=4, num_parallel_tree=1, predictor='auto',\n",
       "                               random_state=0, reg_alpha=0, reg_lambda=1,\n",
       "                               scale_pos_weight=1, subsample=0.8932208090471943,\n",
       "                               tree_method='exact', validate_parameters=1,\n",
       "                               verbosity=None))])"
      ]
     },
     "execution_count": 57,
     "metadata": {},
     "output_type": "execute_result"
    }
   ],
   "source": [
    "# rerunning best model in order to extract feature importance\n",
    "xgb_pipeline2=Pipeline([('scaler', StandardScaler()),\n",
    "                      ('xgbm',xgbm_best)])\n",
    "\n",
    "xgb_pipeline2.fit(X,y)"
   ]
  },
  {
   "cell_type": "code",
   "execution_count": 58,
   "id": "e6f3cfe1",
   "metadata": {},
   "outputs": [],
   "source": [
    "# plot feature importance: importing packages and settings\n",
    "from xgboost import plot_importance\n",
    "from matplotlib import pyplot\n",
    "import matplotlib.pyplot as plt\n",
    "plt.rcParams['figure.figsize'] = [15, 12]"
   ]
  },
  {
   "cell_type": "markdown",
   "id": "9ec2930b",
   "metadata": {},
   "source": [
    "### Commentary\n",
    "Mapping features from XGBoost model feature importance to actual column names was difficult. Fortunately the issue had already been solved on stackoverflow. Credit to this post for the below code chunk: <br>\n",
    "https://stackoverflow.com/questions/59341289/get-actual-feature-names-from-xgboost-model"
   ]
  },
  {
   "cell_type": "code",
   "execution_count": 59,
   "id": "f04db654",
   "metadata": {},
   "outputs": [
    {
     "data": {
      "image/png": "[encoded data removed]",
      "text/plain": [
       "<Figure size 1080x864 with 1 Axes>"
      ]
     },
     "metadata": {
      "needs_background": "light"
     },
     "output_type": "display_data"
    }
   ],
   "source": [
    "# create dict to use later\n",
    "myfeatures = X.columns\n",
    "dict_features = dict(enumerate(myfeatures))\n",
    "\n",
    "# feat importance with names f1,f2,...\n",
    "axsub = xgb.plot_importance(xgb_pipeline2['xgbm'])\n",
    "\n",
    "# get the original names back\n",
    "Text_yticklabels = list(axsub.get_yticklabels())\n",
    "lst_yticklabels = [ Text_yticklabels[i].get_text().lstrip('f') for i in range(len(Text_yticklabels))]\n",
    "lst_yticklabels = [ dict_features[int(i)] for i in lst_yticklabels]\n",
    "\n",
    "axsub.set_yticklabels(lst_yticklabels)\n",
    "plt.show()"
   ]
  },
  {
   "cell_type": "code",
   "execution_count": 96,
   "id": "e34a552b",
   "metadata": {},
   "outputs": [
    {
     "name": "stdout",
     "output_type": "stream",
     "text": [
      "accuracy of 0.9456044471887312 with a standard deviation of 0.005484584671263571\n"
     ]
    }
   ],
   "source": [
    "# How does the model perform when dropping the 10 least important features?\n",
    "scores2 = cross_val_score(rs.best_estimator_, X.drop(lst_yticklabels[0:10],axis=1), y, cv=4, scoring='accuracy')\n",
    "print(\"accuracy of\", scores2.mean(), 'with a standard deviation of', scores2.std())"
   ]
  },
  {
   "cell_type": "markdown",
   "id": "894efc5e",
   "metadata": {},
   "source": [
    "### Commentary\n",
    "In the case of XGBoost model, dropping the least-predictive features has minimal impact on accuracy (less than 1%). While there appears no benefit in doing so for a dataset of this size, this ranking of features may be useful for performing feature selection for other models."
   ]
  },
  {
   "cell_type": "markdown",
   "id": "98eb32b9",
   "metadata": {},
   "source": [
    "## KNN "
   ]
  },
  {
   "cell_type": "code",
   "execution_count": 97,
   "id": "a70c8515",
   "metadata": {
    "collapsed": true
   },
   "outputs": [
    {
     "data": {
      "text/plain": [
       "RandomizedSearchCV(cv=4,\n",
       "                   estimator=Pipeline(steps=[('scaler', StandardScaler()),\n",
       "                                             ('knn', KNeighborsClassifier())]),\n",
       "                   param_distributions={'knn__leaf_size': array([ 1,  2,  3,  4,  5,  6,  7,  8,  9, 10, 11, 12, 13, 14, 15, 16, 17,\n",
       "       18, 19, 20, 21, 22, 23, 24, 25, 26, 27, 28, 29, 30, 31, 32, 33, 34,\n",
       "       35, 36, 37, 38, 39, 40, 41, 42, 43, 44, 45, 46, 47, 48, 49, 50, 51,\n",
       "       52, 53, 54, 55, 56, 57, 58, 59]),\n",
       "                                        'knn__n_neighbors': array([1, 2, 3, 4, 5, 6, 7, 8, 9]),\n",
       "                                        'knn__p': [1, 2],\n",
       "                                        'knn__weights': ['uniform',\n",
       "                                                         'distance']},\n",
       "                   scoring='accuracy')"
      ]
     },
     "execution_count": 97,
     "metadata": {},
     "output_type": "execute_result"
    }
   ],
   "source": [
    "# Knn and Hyperparameter Tuning\n",
    "from sklearn.neighbors import KNeighborsClassifier\n",
    "\n",
    "knn_pipeline=Pipeline([('scaler', StandardScaler()),\n",
    "                      ('knn',KNeighborsClassifier())])\n",
    "\n",
    "# search parameters\n",
    "params={'knn__n_neighbors':np.arange(1,10,1),\n",
    "       'knn__weights':['uniform','distance'],\n",
    "       'knn__p':[1,2],\n",
    "       'knn__leaf_size':np.arange(1,60,1)}\n",
    "\n",
    "knnrs=RandomizedSearchCV(estimator=knn_pipeline,param_distributions=params,n_iter=10,scoring='accuracy',cv=4)\n",
    "knnrs.fit(X,y)"
   ]
  },
  {
   "cell_type": "code",
   "execution_count": 98,
   "id": "f8da5260",
   "metadata": {},
   "outputs": [
    {
     "name": "stdout",
     "output_type": "stream",
     "text": [
      "best model Pipeline(steps=[('scaler', StandardScaler()),\n",
      "                ('knn',\n",
      "                 KNeighborsClassifier(leaf_size=40, p=1, weights='distance'))])\n",
      "best accuracy 0.9166278494542119\n"
     ]
    }
   ],
   "source": [
    "# getting results\n",
    "print('best model',knnrs.best_estimator_)\n",
    "print('best accuracy',knnrs.best_score_)"
   ]
  },
  {
   "cell_type": "code",
   "execution_count": 106,
   "id": "52cc52cd",
   "metadata": {},
   "outputs": [
    {
     "name": "stdout",
     "output_type": "stream",
     "text": [
      "accuracy of 0.9116393862908438 with a standard deviation of 0.0025865612057134656\n"
     ]
    }
   ],
   "source": [
    "# How does dropping the least predictive features from XGBoost impact KNN's performance?\n",
    "scores = cross_val_score(knnrs.best_estimator_, X.drop(lst_yticklabels[0:20],axis=1), y, cv=4, scoring='accuracy')\n",
    "print(\"accuracy of\", scores.mean(), 'with a standard deviation of', scores.std())"
   ]
  },
  {
   "cell_type": "markdown",
   "id": "9d88b650",
   "metadata": {},
   "source": [
    "### KNN Feature Selection Commentary\n",
    "It is interesting to see that dropping the 10, 20, and even 30 least predictive features from the XGBoost model have minimal-to-no impact on the KNN performance (dropping the 40 least predictive features, however, decreased performance by about 2%)."
   ]
  },
  {
   "cell_type": "code",
   "execution_count": 109,
   "id": "74bb4911",
   "metadata": {},
   "outputs": [
    {
     "name": "stdout",
     "output_type": "stream",
     "text": [
      "best model Pipeline(steps=[('scaler', StandardScaler()),\n",
      "                ('knn', KNeighborsClassifier(p=1, weights='distance'))])\n",
      "best accuracy 0.9194788834364245\n"
     ]
    }
   ],
   "source": [
    "# Tuning parameters and scoring model with dropped features\n",
    "knn_pipeline=Pipeline([('scaler', StandardScaler()),\n",
    "                      ('knn',KNeighborsClassifier())])\n",
    "\n",
    "# search parameters\n",
    "params={'knn__n_neighbors':np.arange(1,10,1),\n",
    "       'knn__weights':['uniform','distance'],\n",
    "       'knn__p':[1,2]}\n",
    "\n",
    "knn_drop_rs=RandomizedSearchCV(estimator=knn_pipeline,param_distributions=params,n_iter=10,scoring='accuracy',cv=4)\n",
    "knn_drop_rs.fit(X.drop(lst_yticklabels[0:25],axis=1),y)\n",
    "\n",
    "# getting results\n",
    "print('best model',knn_drop_rs.best_estimator_)\n",
    "print('best accuracy',knn_drop_rs.best_score_)"
   ]
  },
  {
   "cell_type": "code",
   "execution_count": 110,
   "id": "b96eed56",
   "metadata": {},
   "outputs": [
    {
     "name": "stdout",
     "output_type": "stream",
     "text": [
      "accuracy of 0.9194788834364245 with a standard deviation of 0.0034814558276778152\n"
     ]
    }
   ],
   "source": [
    "# How does dropping the least predictive features from XGBoost impact KNN's performance?\n",
    "scores = cross_val_score(knn_drop_rs.best_estimator_, X.drop(lst_yticklabels[0:25],axis=1), y, cv=4, scoring='accuracy')\n",
    "print(\"accuracy of\", scores.mean(), 'with a standard deviation of', scores.std())"
   ]
  },
  {
   "cell_type": "markdown",
   "id": "7fb465f0",
   "metadata": {},
   "source": [
    "### Knn Commentary\n",
    "Feature selection slightly improved performance when the 25 least-predictive features (as provided by initial XGBoost models) were dropped (by 0.8%). \n",
    "Not included here but tested during model-building was removing normalization, which, as expected, had a significant, negative impact on model performance"
   ]
  },
  {
   "cell_type": "code",
   "execution_count": 111,
   "id": "e865c96a",
   "metadata": {},
   "outputs": [
    {
     "name": "stdout",
     "output_type": "stream",
     "text": [
      "best model Pipeline(steps=[('scaler', StandardScaler()),\n",
      "                ('gnb', GaussianNB(var_smoothing=4.60416e-06))])\n",
      "best accuracy 0.8242264090648121\n",
      "accuracy of 0.8242264090648121 with a standard deviation of 0.007607064871337719\n"
     ]
    }
   ],
   "source": [
    "# Naive Bayes and Hyperparameter Tuning\n",
    "from sklearn.naive_bayes import GaussianNB\n",
    "\n",
    "# setting up pipeline\n",
    "gnb_pipeline=Pipeline([('scaler',StandardScaler()),\n",
    "                     ('gnb',GaussianNB())])\n",
    "\n",
    "# parameters\n",
    "params={'gnb__var_smoothing':np.arange(0.00000000001,0.000005,0.00000000005)}\n",
    "\n",
    "# random search\n",
    "gnb_rs=RandomizedSearchCV(estimator=gnb_pipeline,param_distributions=params,n_iter=10,scoring='accuracy',cv=4)\n",
    "gnb_rs.fit(X,y)\n",
    "\n",
    "# getting results\n",
    "print('best model',gnb_rs.best_estimator_)\n",
    "print('best accuracy',gnb_rs.best_score_)\n",
    "\n",
    "# cross validated scoring\n",
    "scores = cross_val_score(gnb_rs.best_estimator_, X, y, cv=4, scoring='accuracy')\n",
    "print(\"accuracy of\", scores.mean(), 'with a standard deviation of', scores.std())"
   ]
  },
  {
   "cell_type": "code",
   "execution_count": 118,
   "id": "cd4dd047",
   "metadata": {
    "scrolled": true
   },
   "outputs": [
    {
     "name": "stdout",
     "output_type": "stream",
     "text": [
      "dropping 0 least predictive features\n",
      "accuracy of 0.8242264090648121 with a standard deviation of 0.007607064871337719\n",
      "dropping 3 least predictive features\n",
      "accuracy of 0.8306407277414882 with a standard deviation of 0.0057317236655361715\n",
      "dropping 6 least predictive features\n",
      "accuracy of 0.8280277877077624 with a standard deviation of 0.005006875249644202\n",
      "dropping 9 least predictive features\n",
      "accuracy of 0.829215097909648 with a standard deviation of 0.0025278275652500363\n",
      "dropping 12 least predictive features\n",
      "accuracy of 0.830401054022727 with a standard deviation of 0.00693574316078377\n",
      "dropping 15 least predictive features\n",
      "accuracy of 0.8334890535460878 with a standard deviation of 0.005633074698087218\n",
      "dropping 18 least predictive features\n",
      "accuracy of 0.8361001881280715 with a standard deviation of 0.010783960591701709\n",
      "dropping 21 least predictive features\n",
      "accuracy of 0.839899535637812 with a standard deviation of 0.012754208981715677\n",
      "dropping 24 least predictive features\n",
      "accuracy of 0.84251224999007 with a standard deviation of 0.013887388291196002\n",
      "dropping 27 least predictive features\n",
      "accuracy of 0.8406081754465785 with a standard deviation of 0.021581346957528585\n",
      "dropping 30 least predictive features\n",
      "accuracy of 0.8237457075384833 with a standard deviation of 0.018813785737478526\n",
      "dropping 33 least predictive features\n",
      "accuracy of 0.8475031956495835 with a standard deviation of 0.006526168118272652\n",
      "dropping 36 least predictive features\n",
      "accuracy of 0.8408512343873561 with a standard deviation of 0.008423717792285746\n",
      "dropping 39 least predictive features\n",
      "accuracy of 0.8163866862377636 with a standard deviation of 0.009177331408836024\n",
      "dropping 42 least predictive features\n",
      "accuracy of 0.784081061172316 with a standard deviation of 0.010486984695363513\n",
      "dropping 45 least predictive features\n",
      "accuracy of 0.7441789979020651 with a standard deviation of 0.0065873558768463425\n",
      "dropping 48 least predictive features\n",
      "accuracy of 0.6976211367846349 with a standard deviation of 0.010917449439091712\n"
     ]
    }
   ],
   "source": [
    "# testing performance by dropping least predictive features as scored by XGBoost\n",
    "\n",
    "accuracy_list=[]\n",
    "\n",
    "for i in np.arange(0,50,3):\n",
    "    gnb_rs.fit(X.drop(lst_yticklabels[0:i], axis=1),y)\n",
    "    print('dropping', i, 'least predictive features')\n",
    "    scores = cross_val_score(gnb_rs.best_estimator_, X.drop(lst_yticklabels[0:i], axis=1), y, cv=4, scoring='accuracy')\n",
    "    print(\"accuracy of\", scores.mean(), 'with a standard deviation of', scores.std())\n",
    "    accuracy_list.append(scores.mean())"
   ]
  },
  {
   "cell_type": "code",
   "execution_count": 120,
   "id": "8f7dee2b",
   "metadata": {},
   "outputs": [
    {
     "data": {
      "text/plain": [
       "[<matplotlib.lines.Line2D at 0x22c5a7f9fa0>]"
      ]
     },
     "execution_count": 120,
     "metadata": {},
     "output_type": "execute_result"
    },
    {
     "data": {
      "image/png": "[encoded data removed]",
      "text/plain": [
       "<Figure size 576x432 with 1 Axes>"
      ]
     },
     "metadata": {
      "needs_background": "light"
     },
     "output_type": "display_data"
    }
   ],
   "source": [
    "# visualizing results\n",
    "plt.rcParams['figure.figsize'] = [8, 6]\n",
    "plt.plot(np.arange(0,50,3),accuracy_list)"
   ]
  },
  {
   "cell_type": "code",
   "execution_count": 122,
   "id": "95b9a3de",
   "metadata": {},
   "outputs": [
    {
     "name": "stdout",
     "output_type": "stream",
     "text": [
      "best model Pipeline(steps=[('gnb', GaussianNB(var_smoothing=1.17771e-06))])\n",
      "best accuracy 0.8558215888697511\n",
      "accuracy of 0.8558215888697511 with a standard deviation of 0.011578302997291854\n"
     ]
    }
   ],
   "source": [
    "# test nb without scaling\n",
    "# Naive Bayes and Hyperparameter Tuning\n",
    "from sklearn.naive_bayes import GaussianNB\n",
    "\n",
    "# setting up pipeline\n",
    "gnb_pipeline=Pipeline([('gnb',GaussianNB())])\n",
    "\n",
    "# parameters\n",
    "params={'gnb__var_smoothing':np.arange(0.00000000001,0.000005,0.00000000005)}\n",
    "\n",
    "# random search\n",
    "gnb_rs=RandomizedSearchCV(estimator=gnb_pipeline,param_distributions=params,n_iter=10,scoring='accuracy',cv=4)\n",
    "gnb_rs.fit(X,y)\n",
    "\n",
    "# getting results\n",
    "print('best model',gnb_rs.best_estimator_)\n",
    "print('best accuracy',gnb_rs.best_score_)\n",
    "\n",
    "# cross validated scoring\n",
    "scores = cross_val_score(gnb_rs.best_estimator_, X, y, cv=4, scoring='accuracy')\n",
    "print(\"accuracy of\", scores.mean(), 'with a standard deviation of', scores.std())"
   ]
  },
  {
   "cell_type": "code",
   "execution_count": 123,
   "id": "f056ce9d",
   "metadata": {},
   "outputs": [
    {
     "data": {
      "text/plain": [
       "[<matplotlib.lines.Line2D at 0x22c5c8806a0>]"
      ]
     },
     "execution_count": 123,
     "metadata": {},
     "output_type": "execute_result"
    },
    {
     "data": {
      "image/png": "[encoded data removed]",
      "text/plain": [
       "<Figure size 576x432 with 1 Axes>"
      ]
     },
     "metadata": {
      "needs_background": "light"
     },
     "output_type": "display_data"
    }
   ],
   "source": [
    "# checking Naive Bayes without standard scaling and feature selection\n",
    "\n",
    "# setting up pipeline\n",
    "gnb_pipeline=Pipeline([('gnb',GaussianNB())])\n",
    "\n",
    "# parameters\n",
    "params={'gnb__var_smoothing':np.arange(0.00000000001,0.000005,0.00000000005)}\n",
    "\n",
    "accuracy_list=[]\n",
    "\n",
    "for i in np.arange(0,50,3):\n",
    "    # random search\n",
    "    gnb_rs=RandomizedSearchCV(estimator=gnb_pipeline,param_distributions=params,n_iter=10,scoring='accuracy',cv=4)\n",
    "    gnb_rs.fit(X.drop(lst_yticklabels[0:i],axis=1),y)\n",
    "\n",
    "    # cross validated scoring\n",
    "    scores = cross_val_score(gnb_rs.best_estimator_, X.drop(lst_yticklabels[0:i],axis=1), y, cv=4, scoring='accuracy')\n",
    "\n",
    "    accuracy_list.append(scores.mean())\n",
    "\n",
    "plt.rcParams['figure.figsize'] = [8, 6]\n",
    "plt.plot(np.arange(0,50,3),accuracy_list)"
   ]
  },
  {
   "cell_type": "code",
   "execution_count": 132,
   "id": "84bfcb1e",
   "metadata": {},
   "outputs": [
    {
     "data": {
      "text/html": [
       "<div>\n",
       "<style scoped>\n",
       "    .dataframe tbody tr th:only-of-type {\n",
       "        vertical-align: middle;\n",
       "    }\n",
       "\n",
       "    .dataframe tbody tr th {\n",
       "        vertical-align: top;\n",
       "    }\n",
       "\n",
       "    .dataframe thead th {\n",
       "        text-align: right;\n",
       "    }\n",
       "</style>\n",
       "<table border=\"1\" class=\"dataframe\">\n",
       "  <thead>\n",
       "    <tr style=\"text-align: right;\">\n",
       "      <th></th>\n",
       "      <th>num_dropped_cols</th>\n",
       "      <th>accuracy</th>\n",
       "    </tr>\n",
       "  </thead>\n",
       "  <tbody>\n",
       "    <tr>\n",
       "      <th>8</th>\n",
       "      <td>24</td>\n",
       "      <td>0.893819</td>\n",
       "    </tr>\n",
       "    <tr>\n",
       "      <th>7</th>\n",
       "      <td>21</td>\n",
       "      <td>0.883848</td>\n",
       "    </tr>\n",
       "    <tr>\n",
       "      <th>6</th>\n",
       "      <td>18</td>\n",
       "      <td>0.879809</td>\n",
       "    </tr>\n",
       "    <tr>\n",
       "      <th>0</th>\n",
       "      <td>0</td>\n",
       "      <td>0.870069</td>\n",
       "    </tr>\n",
       "    <tr>\n",
       "      <th>2</th>\n",
       "      <td>6</td>\n",
       "      <td>0.864608</td>\n",
       "    </tr>\n",
       "    <tr>\n",
       "      <th>10</th>\n",
       "      <td>30</td>\n",
       "      <td>0.862710</td>\n",
       "    </tr>\n",
       "    <tr>\n",
       "      <th>4</th>\n",
       "      <td>12</td>\n",
       "      <td>0.858910</td>\n",
       "    </tr>\n",
       "    <tr>\n",
       "      <th>9</th>\n",
       "      <td>27</td>\n",
       "      <td>0.847749</td>\n",
       "    </tr>\n",
       "    <tr>\n",
       "      <th>1</th>\n",
       "      <td>3</td>\n",
       "      <td>0.837061</td>\n",
       "    </tr>\n",
       "    <tr>\n",
       "      <th>5</th>\n",
       "      <td>15</td>\n",
       "      <td>0.835875</td>\n",
       "    </tr>\n",
       "    <tr>\n",
       "      <th>3</th>\n",
       "      <td>9</td>\n",
       "      <td>0.834450</td>\n",
       "    </tr>\n",
       "    <tr>\n",
       "      <th>11</th>\n",
       "      <td>33</td>\n",
       "      <td>0.797386</td>\n",
       "    </tr>\n",
       "    <tr>\n",
       "      <th>14</th>\n",
       "      <td>42</td>\n",
       "      <td>0.747267</td>\n",
       "    </tr>\n",
       "    <tr>\n",
       "      <th>12</th>\n",
       "      <td>36</td>\n",
       "      <td>0.723752</td>\n",
       "    </tr>\n",
       "    <tr>\n",
       "      <th>15</th>\n",
       "      <td>45</td>\n",
       "      <td>0.705936</td>\n",
       "    </tr>\n",
       "    <tr>\n",
       "      <th>13</th>\n",
       "      <td>39</td>\n",
       "      <td>0.705700</td>\n",
       "    </tr>\n",
       "    <tr>\n",
       "      <th>16</th>\n",
       "      <td>48</td>\n",
       "      <td>0.685272</td>\n",
       "    </tr>\n",
       "  </tbody>\n",
       "</table>\n",
       "</div>"
      ],
      "text/plain": [
       "    num_dropped_cols  accuracy\n",
       "8                 24  0.893819\n",
       "7                 21  0.883848\n",
       "6                 18  0.879809\n",
       "0                  0  0.870069\n",
       "2                  6  0.864608\n",
       "10                30  0.862710\n",
       "4                 12  0.858910\n",
       "9                 27  0.847749\n",
       "1                  3  0.837061\n",
       "5                 15  0.835875\n",
       "3                  9  0.834450\n",
       "11                33  0.797386\n",
       "14                42  0.747267\n",
       "12                36  0.723752\n",
       "15                45  0.705936\n",
       "13                39  0.705700\n",
       "16                48  0.685272"
      ]
     },
     "execution_count": 132,
     "metadata": {},
     "output_type": "execute_result"
    }
   ],
   "source": [
    "# results\n",
    "pd.DataFrame(data={'num_dropped_cols': np.arange(0,50,3), 'accuracy': accuracy_list}).sort_values('accuracy', ascending=False)"
   ]
  },
  {
   "cell_type": "markdown",
   "id": "1e135595",
   "metadata": {},
   "source": [
    "### Naive Bayes Commentary\n",
    "Naive Bayes classifier performed worse than XGBoost and KNN, however, by removing standard scaler and tuning the number of dropped columns, performanced improved to nearly 90% accuracy. This approach, however, suggests that perhaps a Random Forest would be more appropriate than Naive Bayes."
   ]
  },
  {
   "cell_type": "markdown",
   "id": "b6d16799",
   "metadata": {},
   "source": [
    "### notes for MLP\n",
    "https://scikit-learn.org/stable/modules/generated/sklearn.neural_network.MLPClassifier.html\n",
    "\n",
    "https://www.researchgate.net/publication/291833705_Optimizing_Feedforward_Neural_Networks_Using_Biogeography_Based_Optimization_for_E-Mail_Spam_Identification"
   ]
  },
  {
   "cell_type": "code",
   "execution_count": 67,
   "id": "3c8d53bb",
   "metadata": {},
   "outputs": [],
   "source": [
    "# Feed-Forward Neural Net re: Rodan et. all\n",
    "from sklearn.neural_network import MLPClassifier\n"
   ]
  },
  {
   "cell_type": "code",
   "execution_count": 68,
   "id": "5e1a55a7",
   "metadata": {},
   "outputs": [],
   "source": [
    "# multi-model ensemble"
   ]
  },
  {
   "cell_type": "code",
   "execution_count": 69,
   "id": "da06aa5d",
   "metadata": {},
   "outputs": [],
   "source": [
    "# model performance: AUC graph"
   ]
  },
  {
   "cell_type": "code",
   "execution_count": 70,
   "id": "d8f8fea5",
   "metadata": {},
   "outputs": [],
   "source": [
    "# Model Evaluation: cross-validation, confusion matrix, ROC curve, precision, recall, f-measure "
   ]
  },
  {
   "cell_type": "markdown",
   "id": "343f8320",
   "metadata": {},
   "source": [
    "# Modeling: Best Cost-Sensitive Model\n",
    "Using 10:1 cost ratio: <br> \n",
    "misclassifying a legitimate email as spam is 10 times more costly than classifying spam as a legitimate email"
   ]
  },
  {
   "cell_type": "code",
   "execution_count": 71,
   "id": "ce82c180",
   "metadata": {},
   "outputs": [],
   "source": [
    "# Repeat previous models, optimize for cost-sensitivity"
   ]
  },
  {
   "cell_type": "code",
   "execution_count": 72,
   "id": "06ce52e4",
   "metadata": {},
   "outputs": [],
   "source": [
    "# Model Evaluation: cross-validation, confusion matrix, ROC curve, precision, recall, f-measure"
   ]
  },
  {
   "cell_type": "code",
   "execution_count": 73,
   "id": "a194b21c",
   "metadata": {},
   "outputs": [],
   "source": [
    "# Visualization of cost-sensitivity performance"
   ]
  },
  {
   "cell_type": "markdown",
   "id": "1dd0d39b",
   "metadata": {},
   "source": [
    "# Discussion of Results\n",
    "Finally, as a deliverable, produce a write-up (i.e., a single PDF file) describing your \n",
    "aforementioned explorations. <br>\n",
    "Report the performances of different models that you tried (i.e., using different data mining techniques, different attribute selection techniques, etc.) <br> \n",
    "What was the performance of the best model in the cost-unaware task (i.e., in terms of accuracy)?<br>\n",
    "What was the performance of the best model in the cost-aware task (i.e., in \n",
    "terms of expected cost)?<br> \n",
    "Discuss the best models in two different tasks (as well as their performance) in detail, provide some comparisons. <br>\n",
    "Draw some conclusions from the assignment.   "
   ]
  },
  {
   "cell_type": "code",
   "execution_count": null,
   "id": "e96c4930",
   "metadata": {},
   "outputs": [],
   "source": []
  }
 ],
 "metadata": {
  "kernelspec": {
   "display_name": "Python 3 (ipykernel)",
   "language": "python",
   "name": "python3"
  },
  "language_info": {
   "codemirror_mode": {
    "name": "ipython",
    "version": 3
   },
   "file_extension": ".py",
   "mimetype": "text/x-python",
   "name": "python",
   "nbconvert_exporter": "python",
   "pygments_lexer": "ipython3",
   "version": "3.8.12"
  }
 },
 "nbformat": 4,
 "nbformat_minor": 5
}
